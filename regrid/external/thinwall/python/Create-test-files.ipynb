{
 "cells": [
  {
   "cell_type": "code",
   "execution_count": 1,
   "id": "3e791a7d-53c0-4515-9712-99aaf4bb1f2b",
   "metadata": {},
   "outputs": [],
   "source": [
    "import netCDF4\n",
    "import numpy"
   ]
  },
  {
   "cell_type": "code",
   "execution_count": 2,
   "id": "d99213b7-5247-49f7-99f6-b452a3839072",
   "metadata": {},
   "outputs": [],
   "source": [
    "# Fake source topography\n",
    "res = 8\n",
    "nj, ni = 180*res, 360*res\n",
    "nc = netCDF4.Dataset('test_topo.nc','w','clobber')\n",
    "nx = nc.createDimension('lon', ni)\n",
    "ny = nc.createDimension('lat', nj)\n",
    "x = nc.createVariable('lon', float, ('lon') )\n",
    "y = nc.createVariable('lat', float, ('lat') )\n",
    "z = nc.createVariable('elevation', float, ('lat','lon') )\n",
    "x[:] = ( numpy.arange(ni) + 0.5 ) / res\n",
    "y[:] = ( numpy.arange(nj) + 0.5 ) / res - 90\n",
    "z[:] = numpy.meshgrid(x,y)[0] # 0=x, 1=y\n",
    "nc.close()"
   ]
  },
  {
   "cell_type": "code",
   "execution_count": 3,
   "id": "34200115-5a7d-422e-8ea4-b2d74c2a1a8a",
   "metadata": {},
   "outputs": [],
   "source": [
    "# Fake simple grid\n",
    "res = 1\n",
    "nj, ni = 180*res, 360*res\n",
    "x = numpy.arange(ni+1) / res - 300\n",
    "y = numpy.arange(nj+1) / res - 90\n",
    "X,Y = numpy.meshgrid(x,y)\n",
    "\n",
    "nc = netCDF4.Dataset('test_hgrid.nc','w','clobber')\n",
    "nxp = nc.createDimension('nxp', ni+1)\n",
    "nyp = nc.createDimension('nyp', nj+1)\n",
    "nx = nc.createDimension('nx', ni)\n",
    "ny = nc.createDimension('ny', nj)\n",
    "x = nc.createVariable('x', float, ('nyp','nxp') )\n",
    "y = nc.createVariable('y', float, ('nyp','nxp') )\n",
    "area = nc.createVariable('area', float, ('ny','nx') )\n",
    "x[:,:] = X\n",
    "y[:,:] = Y\n",
    "area[:,:] = 0*X[:-1,:-1] + 1\n",
    "nc.close()"
   ]
  }
 ],
 "metadata": {
  "kernelspec": {
   "display_name": "Python 3 (ipykernel)",
   "language": "python",
   "name": "python3"
  },
  "language_info": {
   "codemirror_mode": {
    "name": "ipython",
    "version": 3
   },
   "file_extension": ".py",
   "mimetype": "text/x-python",
   "name": "python",
   "nbconvert_exporter": "python",
   "pygments_lexer": "ipython3",
   "version": "3.11.5"
  }
 },
 "nbformat": 4,
 "nbformat_minor": 5
}
