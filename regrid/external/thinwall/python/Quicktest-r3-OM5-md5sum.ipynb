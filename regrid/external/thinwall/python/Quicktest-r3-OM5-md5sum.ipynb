{
 "cells": [
  {
   "cell_type": "code",
   "execution_count": 1,
   "id": "32a91d0d-2fca-48ce-b6dc-ff7fb4c3aa3a",
   "metadata": {},
   "outputs": [],
   "source": [
    "import GMesh\n",
    "import math\n",
    "import netCDF4\n",
    "import numpy as np\n",
    "import matplotlib.pyplot as plt"
   ]
  },
  {
   "cell_type": "code",
   "execution_count": 2,
   "id": "7176622d-1507-4a96-834e-4770f0c228fb",
   "metadata": {},
   "outputs": [],
   "source": [
    "# Read topo data\n",
    "! cp -n /archive/gold/datasets/topography/GEBCO_2023/GEBCO_2023.nc .\n",
    "with netCDF4.Dataset('GEBCO_2023.nc') as nc:\n",
    "    topo_lon = nc.variables['lon'][:].filled(0.)\n",
    "    topo_lat = nc.variables['lat'][:].filled(0.)\n",
    "    topo_depth = nc.variables['elevation'][:,:].filled(0.)"
   ]
  },
  {
   "cell_type": "code",
   "execution_count": 3,
   "id": "8e26d809-371c-434a-83c7-e876ba091007",
   "metadata": {},
   "outputs": [
    {
     "data": {
      "text/plain": [
       "<UniformEDS 86400 x 43200 (27.810Gb)\n",
       "lon = <RegularCoord n=86400, dx=0.004166666666666667, rdx=240.0, x0=-180.0, io=-43200, rem=0.0, is-ie=0-86400, periodic=True>\n",
       "h:[-179.99791667 -179.99375    -179.98958333 ...  179.98958333  179.99375\n",
       "  179.99791667]\n",
       "q:[-180.         -179.99583333 -179.99166667 ...  179.99166667  179.99583333\n",
       "  180.        ]\n",
       "lat = <RegularCoord n=43200, dx=0.004166666666666667, rdx=240.0, x0=-90, io=-21600, rem=0.0, is-ie=0-43200, periodic=False>\n",
       "h:[-89.99791667 -89.99375    -89.98958333 ...  89.98958333  89.99375\n",
       "  89.99791667]\n",
       "q:[-90.         -89.99583333 -89.99166667 ...  89.99166667  89.99583333\n",
       "  90.        ]\n",
       "data = (43200, 86400)>"
      ]
     },
     "execution_count": 3,
     "metadata": {},
     "output_type": "execute_result"
    }
   ],
   "source": [
    "src_topo_global = GMesh.UniformEDS( topo_lon, topo_lat, topo_depth )\n",
    "src_topo_global"
   ]
  },
  {
   "cell_type": "code",
   "execution_count": 4,
   "id": "764aeb64-5eb0-4506-9a6c-9b1406a33a73",
   "metadata": {},
   "outputs": [
    {
     "data": {
      "text/plain": [
       "<GMesh nj:1161 ni:1440 shape:(1161,1440)>"
      ]
     },
     "execution_count": 4,
     "metadata": {},
     "output_type": "execute_result"
    }
   ],
   "source": [
    "# Read target mesh\n",
    "!cp -n /archive/bgr/Datasets/OM5/topo_v4/OM5_025/ocean_hgrid.nc OM5_ocean_hgrid.nc\n",
    "with netCDF4.Dataset('OM5_ocean_hgrid.nc') as nc:\n",
    "    fullG = GMesh.GMesh( lon=nc.variables['x'][::2,::2], lat=nc.variables['y'][::2,::2] )\n",
    "fullG"
   ]
  },
  {
   "cell_type": "code",
   "execution_count": 5,
   "id": "ea19e15a-455a-4ffd-89a6-ed69fabdfc32",
   "metadata": {},
   "outputs": [
    {
     "data": {
      "text/plain": [
       "([5, 3, 3, 2, 2, 2, 2, 2], [43, 3, 3, 3])"
      ]
     },
     "execution_count": 5,
     "metadata": {},
     "output_type": "execute_result"
    }
   ],
   "source": [
    "GMesh.pfactor( fullG.ni ), GMesh.pfactor( fullG.nj )"
   ]
  },
  {
   "cell_type": "code",
   "execution_count": 6,
   "id": "674e25c1-28fa-4818-9349-0efb667ad892",
   "metadata": {},
   "outputs": [],
   "source": [
    "def convol( levels, h, f, verbose=False ):\n",
    "    \"\"\"Coarsens the product of h*f across all levels\"\"\"\n",
    "    levels[-1].height = ( h * f ).reshape(levels[-1].nj,levels[-1].ni)\n",
    "    for k in range( len(levels) - 1, 0, -1 ):\n",
    "        if verbose: print('Coarsening {} -> {}'.format(k,k-1))\n",
    "        levels[k].coarsenby2( levels[k-1] )\n",
    "    return levels[0].height"
   ]
  },
  {
   "cell_type": "code",
   "execution_count": 7,
   "id": "e0e1216c-4b47-412c-b286-b581a7f38be7",
   "metadata": {},
   "outputs": [],
   "source": [
    "def rough( levels, h, h2min=1.e-7 ):\n",
    "    \"\"\"Calculates both mean of H, and variance of H relative to a plane\"\"\"\n",
    "    # Construct weights for moment calculations\n",
    "    nx = 2**( len(levels) - 1 )\n",
    "    x = ( np.arange(nx) - ( nx - 1 ) /2 ) * np.sqrt( 12 / ( nx**2 - 1 ) ) # This formula satisfies <x>=0 and <x^2>=1\n",
    "    X, Y = np.meshgrid( x, x )\n",
    "    X, Y = X.reshape(1,nx,1,nx), Y.reshape(1,nx,1,nx)\n",
    "    h = h.reshape(levels[0].nj,nx,levels[0].ni,nx)\n",
    "    # Now calculate moments\n",
    "    H2 = convol( levels, h, h ) # mean of h^2\n",
    "    HX = convol( levels, h, X ) # mean of h * x\n",
    "    HY = convol( levels, h, Y ) # mean of h * y\n",
    "    H = convol( levels, h, np.ones((1,nx,1,nx)) ) # mean of h = mean of h * 1\n",
    "    # The variance of deviations from the plane = <h^2> - <h>^2 - <h*x>^2 - <h*y>^2 given <x>=<y>=0 and <x^2>=<y^2>=1\n",
    "    return H, H2 - H**2 - HX**2 - HY**2 + h2min"
   ]
  },
  {
   "cell_type": "code",
   "execution_count": 8,
   "id": "3361c784-a579-4d14-b163-fda2e6a36e92",
   "metadata": {},
   "outputs": [
    {
     "name": "stdout",
     "output_type": "stream",
     "text": [
      "window size dj,di = 129 720 full model nj,ni= 1161 1440\n",
      "J,I=0,0 0.0%, <GMesh nj:129 ni:720 shape:(129,720)>\n",
      "   window lon=-300.0:-120.0, lat=-88.57:-75.89738278222546\n",
      "   jslice=slice(0, 130, None), islice=slice(0, 721, None)\n",
      "Refine level 0 <GMesh nj:129 ni:720 shape:(129,720)> (1.4172 Mb)\n",
      "Refine level 1 <GMesh nj:258 ni:1440 shape:(258,1440)> (5.6689 Mb)\n",
      "Refine level 2 <GMesh nj:516 ni:2880 shape:(516,2880)> (22.6758 Mb)\n",
      "Refine level 3 <GMesh nj:1032 ni:5760 shape:(1032,5760)> (90.7031 Mb)\n",
      "J,I=0,1 5.6%, <GMesh nj:129 ni:720 shape:(129,720)>\n",
      "   window lon=-120.0:60.0, lat=-88.57:-75.89738278222546\n",
      "   jslice=slice(0, 130, None), islice=slice(720, 1441, None)\n",
      "Refine level 0 <GMesh nj:129 ni:720 shape:(129,720)> (1.4172 Mb)\n",
      "Refine level 1 <GMesh nj:258 ni:1440 shape:(258,1440)> (5.6689 Mb)\n",
      "Refine level 2 <GMesh nj:516 ni:2880 shape:(516,2880)> (22.6758 Mb)\n",
      "Refine level 3 <GMesh nj:1032 ni:5760 shape:(1032,5760)> (90.7031 Mb)\n",
      "J,I=1,0 11.1%, <GMesh nj:129 ni:720 shape:(129,720)>\n",
      "   window lon=-300.0:-120.0, lat=-75.89738278222546:-62.9436759874495\n",
      "   jslice=slice(129, 259, None), islice=slice(0, 721, None)\n",
      "Refine level 0 <GMesh nj:129 ni:720 shape:(129,720)> (1.4172 Mb)\n",
      "Refine level 1 <GMesh nj:258 ni:1440 shape:(258,1440)> (5.6689 Mb)\n",
      "Refine level 2 <GMesh nj:516 ni:2880 shape:(516,2880)> (22.6758 Mb)\n",
      "Refine level 3 <GMesh nj:1032 ni:5760 shape:(1032,5760)> (90.7031 Mb)\n",
      "J,I=1,1 16.7%, <GMesh nj:129 ni:720 shape:(129,720)>\n",
      "   window lon=-120.0:60.0, lat=-75.89738278222546:-62.9436759874495\n",
      "   jslice=slice(129, 259, None), islice=slice(720, 1441, None)\n",
      "Refine level 0 <GMesh nj:129 ni:720 shape:(129,720)> (1.4172 Mb)\n",
      "Refine level 1 <GMesh nj:258 ni:1440 shape:(258,1440)> (5.6689 Mb)\n",
      "Refine level 2 <GMesh nj:516 ni:2880 shape:(516,2880)> (22.6758 Mb)\n",
      "Refine level 3 <GMesh nj:1032 ni:5760 shape:(1032,5760)> (90.7031 Mb)\n",
      "J,I=2,0 22.2%, <GMesh nj:129 ni:720 shape:(129,720)>\n",
      "   window lon=-300.0:-120.0, lat=-62.9436759874495:-44.19970934415516\n",
      "   jslice=slice(258, 388, None), islice=slice(0, 721, None)\n",
      "Refine level 0 <GMesh nj:129 ni:720 shape:(129,720)> (1.4172 Mb)\n",
      "Refine level 1 <GMesh nj:258 ni:1440 shape:(258,1440)> (5.6689 Mb)\n",
      "Refine level 2 <GMesh nj:516 ni:2880 shape:(516,2880)> (22.6758 Mb)\n",
      "Refine level 3 <GMesh nj:1032 ni:5760 shape:(1032,5760)> (90.7031 Mb)\n",
      "J,I=2,1 27.8%, <GMesh nj:129 ni:720 shape:(129,720)>\n",
      "   window lon=-120.0:60.0, lat=-62.9436759874495:-44.19970934415516\n",
      "   jslice=slice(258, 388, None), islice=slice(720, 1441, None)\n",
      "Refine level 0 <GMesh nj:129 ni:720 shape:(129,720)> (1.4172 Mb)\n",
      "Refine level 1 <GMesh nj:258 ni:1440 shape:(258,1440)> (5.6689 Mb)\n",
      "Refine level 2 <GMesh nj:516 ni:2880 shape:(516,2880)> (22.6758 Mb)\n",
      "Refine level 3 <GMesh nj:1032 ni:5760 shape:(1032,5760)> (90.7031 Mb)\n",
      "J,I=3,0 33.3%, <GMesh nj:129 ni:720 shape:(129,720)>\n",
      "   window lon=-300.0:-120.0, lat=-44.19970934415516:-16.875577111940906\n",
      "   jslice=slice(387, 517, None), islice=slice(0, 721, None)\n",
      "Refine level 0 <GMesh nj:129 ni:720 shape:(129,720)> (1.4172 Mb)\n",
      "Refine level 1 <GMesh nj:258 ni:1440 shape:(258,1440)> (5.6689 Mb)\n",
      "Refine level 2 <GMesh nj:516 ni:2880 shape:(516,2880)> (22.6758 Mb)\n",
      "Refine level 3 <GMesh nj:1032 ni:5760 shape:(1032,5760)> (90.7031 Mb)\n",
      "J,I=3,1 38.9%, <GMesh nj:129 ni:720 shape:(129,720)>\n",
      "   window lon=-120.0:60.0, lat=-44.19970934415516:-16.875577111940906\n",
      "   jslice=slice(387, 517, None), islice=slice(720, 1441, None)\n",
      "Refine level 0 <GMesh nj:129 ni:720 shape:(129,720)> (1.4172 Mb)\n",
      "Refine level 1 <GMesh nj:258 ni:1440 shape:(258,1440)> (5.6689 Mb)\n",
      "Refine level 2 <GMesh nj:516 ni:2880 shape:(516,2880)> (22.6758 Mb)\n",
      "Refine level 3 <GMesh nj:1032 ni:5760 shape:(1032,5760)> (90.7031 Mb)\n",
      "J,I=4,0 44.4%, <GMesh nj:129 ni:720 shape:(129,720)>\n",
      "   window lon=-300.0:-120.0, lat=-16.875577111940906:14.952332982963762\n",
      "   jslice=slice(516, 646, None), islice=slice(0, 721, None)\n",
      "Refine level 0 <GMesh nj:129 ni:720 shape:(129,720)> (1.4172 Mb)\n",
      "Refine level 1 <GMesh nj:258 ni:1440 shape:(258,1440)> (5.6689 Mb)\n",
      "Refine level 2 <GMesh nj:516 ni:2880 shape:(516,2880)> (22.6758 Mb)\n",
      "Refine level 3 <GMesh nj:1032 ni:5760 shape:(1032,5760)> (90.7031 Mb)\n",
      "J,I=4,1 50.0%, <GMesh nj:129 ni:720 shape:(129,720)>\n",
      "   window lon=-120.0:60.0, lat=-16.875577111940906:14.952332982963762\n",
      "   jslice=slice(516, 646, None), islice=slice(720, 1441, None)\n",
      "Refine level 0 <GMesh nj:129 ni:720 shape:(129,720)> (1.4172 Mb)\n",
      "Refine level 1 <GMesh nj:258 ni:1440 shape:(258,1440)> (5.6689 Mb)\n",
      "Refine level 2 <GMesh nj:516 ni:2880 shape:(516,2880)> (22.6758 Mb)\n",
      "Refine level 3 <GMesh nj:1032 ni:5760 shape:(1032,5760)> (90.7031 Mb)\n",
      "J,I=5,0 55.6%, <GMesh nj:129 ni:720 shape:(129,720)>\n",
      "   window lon=-300.0:-120.0, lat=14.952332982963762:42.74844644937275\n",
      "   jslice=slice(645, 775, None), islice=slice(0, 721, None)\n",
      "Refine level 0 <GMesh nj:129 ni:720 shape:(129,720)> (1.4172 Mb)\n",
      "Refine level 1 <GMesh nj:258 ni:1440 shape:(258,1440)> (5.6689 Mb)\n",
      "Refine level 2 <GMesh nj:516 ni:2880 shape:(516,2880)> (22.6758 Mb)\n",
      "Refine level 3 <GMesh nj:1032 ni:5760 shape:(1032,5760)> (90.7031 Mb)\n",
      "J,I=5,1 61.1%, <GMesh nj:129 ni:720 shape:(129,720)>\n",
      "   window lon=-120.0:60.0, lat=14.952332982963762:42.74844644937275\n",
      "   jslice=slice(645, 775, None), islice=slice(720, 1441, None)\n",
      "Refine level 0 <GMesh nj:129 ni:720 shape:(129,720)> (1.4172 Mb)\n",
      "Refine level 1 <GMesh nj:258 ni:1440 shape:(258,1440)> (5.6689 Mb)\n",
      "Refine level 2 <GMesh nj:516 ni:2880 shape:(516,2880)> (22.6758 Mb)\n",
      "Refine level 3 <GMesh nj:1032 ni:5760 shape:(1032,5760)> (90.7031 Mb)\n",
      "J,I=6,0 66.7%, <GMesh nj:129 ni:720 shape:(129,720)>\n",
      "   window lon=-300.0:-120.0, lat=42.74844644937275:62.01969555860062\n",
      "   jslice=slice(774, 904, None), islice=slice(0, 721, None)\n",
      "Refine level 0 <GMesh nj:129 ni:720 shape:(129,720)> (1.4172 Mb)\n",
      "Refine level 1 <GMesh nj:258 ni:1440 shape:(258,1440)> (5.6689 Mb)\n",
      "Refine level 2 <GMesh nj:516 ni:2880 shape:(516,2880)> (22.6758 Mb)\n",
      "Refine level 3 <GMesh nj:1032 ni:5760 shape:(1032,5760)> (90.7031 Mb)\n",
      "J,I=6,1 72.2%, <GMesh nj:129 ni:720 shape:(129,720)>\n",
      "   window lon=-120.0:60.0, lat=42.74844644937275:62.01969555860062\n",
      "   jslice=slice(774, 904, None), islice=slice(720, 1441, None)\n",
      "Refine level 0 <GMesh nj:129 ni:720 shape:(129,720)> (1.4172 Mb)\n",
      "Refine level 1 <GMesh nj:258 ni:1440 shape:(258,1440)> (5.6689 Mb)\n",
      "Refine level 2 <GMesh nj:516 ni:2880 shape:(516,2880)> (22.6758 Mb)\n",
      "Refine level 3 <GMesh nj:1032 ni:5760 shape:(1032,5760)> (90.7031 Mb)\n",
      "J,I=7,0 77.8%, <GMesh nj:129 ni:720 shape:(129,720)>\n",
      "   window lon=-300.0:-120.0, lat=62.01969555860062:76.05669085471095\n",
      "   jslice=slice(903, 1033, None), islice=slice(0, 721, None)\n",
      "Refine level 0 <GMesh nj:129 ni:720 shape:(129,720)> (1.4172 Mb)\n",
      "Refine level 1 <GMesh nj:258 ni:1440 shape:(258,1440)> (5.6689 Mb)\n",
      "Refine level 2 <GMesh nj:516 ni:2880 shape:(516,2880)> (22.6758 Mb)\n",
      "Refine level 3 <GMesh nj:1032 ni:5760 shape:(1032,5760)> (90.7031 Mb)\n",
      "J,I=7,1 83.3%, <GMesh nj:129 ni:720 shape:(129,720)>\n",
      "   window lon=-120.0:60.0, lat=62.01969555860062:76.05669085471095\n",
      "   jslice=slice(903, 1033, None), islice=slice(720, 1441, None)\n",
      "Refine level 0 <GMesh nj:129 ni:720 shape:(129,720)> (1.4172 Mb)\n",
      "Refine level 1 <GMesh nj:258 ni:1440 shape:(258,1440)> (5.6689 Mb)\n",
      "Refine level 2 <GMesh nj:516 ni:2880 shape:(516,2880)> (22.6758 Mb)\n",
      "Refine level 3 <GMesh nj:1032 ni:5760 shape:(1032,5760)> (90.7031 Mb)\n",
      "J,I=8,0 88.9%, <GMesh nj:129 ni:720 shape:(129,720)>\n",
      "   window lon=-300.0:-120.0, lat=64.0589597296948:90.0\n",
      "   jslice=slice(1032, 1162, None), islice=slice(0, 721, None)\n",
      "Refine level 0 <GMesh nj:129 ni:720 shape:(129,720)> (1.4172 Mb)\n",
      "Refine level 1 <GMesh nj:258 ni:1440 shape:(258,1440)> (5.6689 Mb)\n",
      "Refine level 2 <GMesh nj:516 ni:2880 shape:(516,2880)> (22.6758 Mb)\n",
      "Refine level 3 <GMesh nj:1032 ni:5760 shape:(1032,5760)> (90.7031 Mb)\n",
      "J,I=8,1 94.4%, <GMesh nj:129 ni:720 shape:(129,720)>\n",
      "   window lon=-120.0:60.0, lat=64.0589597296948:90.0\n",
      "   jslice=slice(1032, 1162, None), islice=slice(720, 1441, None)\n",
      "Refine level 0 <GMesh nj:129 ni:720 shape:(129,720)> (1.4172 Mb)\n",
      "Refine level 1 <GMesh nj:258 ni:1440 shape:(258,1440)> (5.6689 Mb)\n",
      "Refine level 2 <GMesh nj:516 ni:2880 shape:(516,2880)> (22.6758 Mb)\n",
      "Refine level 3 <GMesh nj:1032 ni:5760 shape:(1032,5760)> (90.7031 Mb)\n",
      "    36.866secs : Whole workflow\n",
      "1.0 1.0 <-- should both be 1 for full model\n"
     ]
    }
   ],
   "source": [
    "# NtileI, NtileJ, max_refinement = 3, 43*3*3, 0\n",
    "# NtileI, NtileJ, max_refinement = 3, 43, 5\n",
    "# NtileI, NtileJ, max_refinement = 3, 43*3, 6\n",
    "NtileI, NtileJ, max_refinement = 2, 9, 3\n",
    "di, dj = fullG.ni // NtileI, fullG.nj // NtileJ\n",
    "assert di*NtileI == fullG.ni\n",
    "assert dj*NtileJ == fullG.nj\n",
    "print('window size dj,di =',dj,di,'full model nj,ni=',fullG.nj, fullG.ni)\n",
    "Hcnt = np.zeros((fullG.nj, fullG.ni)) # Diagnostic: counting which cells we are working on\n",
    "Htarg, H2targ = np.zeros((fullG.nj, fullG.ni)), np.zeros((fullG.nj, fullG.ni))\n",
    "gtic = GMesh.GMesh._toc(None,\"\")\n",
    "for j in range( NtileJ ): # 23 / 9\n",
    "    csj, sj = slice( j*dj, (j+1)*dj ), slice( j*dj, (j+1)*dj+1 )\n",
    "    for i in range( NtileI ): # 0 / 6\n",
    "        csi, si = slice( i*di, (i+1)*di ), slice( i*di, (i+1)*di+1 ) # Slices of target grid\n",
    "        Hcnt[csj,csi] = Hcnt[csj,csi] + 1 # Diagnostic: counting which cells we are working on\n",
    "        G = GMesh.GMesh( lon=fullG.lon[sj,si], lat=fullG.lat[sj,si] )\n",
    "        print('J,I={},{} {:.1f}%, {}\\n   window lon={}:{}, lat={}:{}\\n   jslice={}, islice={}'.format( \\\n",
    "            j, i, 100*(j*NtileI+i)/(NtileI*NtileJ), G, G.lon.min(), G.lon.max(), G.lat.min(), G.lat.max(), sj, si ))\n",
    "        # This recursively refines the mesh until some criteria is met ...\n",
    "        levels = G.refine_loop( src_topo_global, resolution_limit=False, fixed_refine_level=max_refinement, timers=False )\n",
    "        # Use nearest neighbor topography to populate the finest grid\n",
    "        levels[-1].project_source_data_onto_target_mesh( src_topo_global )\n",
    "        # Now recursively coarsen\n",
    "        h, h2 = rough( levels, levels[-1].height )\n",
    "        # Store window in final array\n",
    "        Htarg[csj,csi] = h\n",
    "        H2targ[csj,csi] = h2\n",
    "GMesh.GMesh._toc(gtic,\"Whole workflow\")\n",
    "print( Hcnt.min(), Hcnt.max(), '<-- should both be 1 for full model' )"
   ]
  },
  {
   "cell_type": "code",
   "execution_count": 9,
   "id": "727d83ef-9f4e-446a-aa2f-62c6650940c4",
   "metadata": {},
   "outputs": [
    {
     "name": "stdout",
     "output_type": "stream",
     "text": [
      "00076158d148bc27271d8e64ff5b4342  new_topo_OM5_grid_r3_2x9.nc\n"
     ]
    }
   ],
   "source": [
    "with netCDF4.Dataset('new_topo_OM5_grid_r{}_{}x{}.nc'.format(max_refinement, NtileI, NtileJ),'w','clobber') as nc:\n",
    "    nx = nc.createDimension('nx', Htarg.shape[1])\n",
    "    ny = nc.createDimension('ny', Htarg.shape[0])\n",
    "    ntiles = nc.createDimension('ntiles', 1)\n",
    "    z = nc.createVariable('depth', float, ('ny','nx') )\n",
    "    z2 = nc.createVariable('h2', float, ('ny','nx') )\n",
    "    z[:,:] = -Htarg[:,:]\n",
    "    z2[:,:] = H2targ[:,:]\n",
    "!md5sum new_topo_OM5_grid_r3_2x9.nc \n",
    "# 00076158d148bc27271d8e64ff5b4342  new_topo_OM5_grid_r3_2x9.nc"
   ]
  },
  {
   "cell_type": "code",
   "execution_count": 10,
   "id": "9a0a742d-425c-4485-9b49-71c969fd9bbf",
   "metadata": {
    "jp-MarkdownHeadingCollapsed": true
   },
   "outputs": [],
   "source": [
    "# plt.pcolormesh( fullG.lon, fullG.lat, Htarg ); plt.colorbar();"
   ]
  }
 ],
 "metadata": {
  "kernelspec": {
   "display_name": "Python 3 (ipykernel)",
   "language": "python",
   "name": "python3"
  },
  "language_info": {
   "codemirror_mode": {
    "name": "ipython",
    "version": 3
   },
   "file_extension": ".py",
   "mimetype": "text/x-python",
   "name": "python",
   "nbconvert_exporter": "python",
   "pygments_lexer": "ipython3",
   "version": "3.11.5"
  }
 },
 "nbformat": 4,
 "nbformat_minor": 5
}
