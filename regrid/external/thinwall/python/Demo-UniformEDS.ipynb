{
 "cells": [
  {
   "cell_type": "code",
   "execution_count": 1,
   "id": "7df06107-dae3-45a7-80fd-16c2f8d4f19d",
   "metadata": {},
   "outputs": [],
   "source": [
    "import matplotlib.pyplot as plt\n",
    "import numpy as np"
   ]
  },
  {
   "cell_type": "code",
   "execution_count": 2,
   "id": "a90e5798-3baf-4515-9638-b0e72a124d7b",
   "metadata": {},
   "outputs": [],
   "source": [
    "from GMesh import RegularCoord\n",
    "from GMesh import UniformEDS"
   ]
  },
  {
   "cell_type": "code",
   "execution_count": 3,
   "id": "8d28a26a-c6ff-48ac-9894-7d56940500fc",
   "metadata": {},
   "outputs": [
    {
     "name": "stdout",
     "output_type": "stream",
     "text": [
      "Help on class UniformEDS in module GMesh:\n",
      "\n",
      "class UniformEDS(builtins.object)\n",
      " |  UniformEDS(lon, lat, elevation=None)\n",
      " |  \n",
      " |  Container for a uniform elevation dataset\n",
      " |  \n",
      " |  Methods defined here:\n",
      " |  \n",
      " |  __init__(self, lon, lat, elevation=None)\n",
      " |      (lon,lat) are cell centers and 1D with combined shape equalt that of elevation.\n",
      " |  \n",
      " |  __repr__(self)\n",
      " |      Return repr(self).\n",
      " |  \n",
      " |  bb_slices(self, lon, lat)\n",
      " |      Returns the slices defining the bounding box of data hit by (lon,lat)\n",
      " |  \n",
      " |  indices(self, lon, lat, bound_subset=False)\n",
      " |      Return the i,j indices of cells in which (lon,lat) fall\n",
      " |  \n",
      " |  plot(self, axis, **kwargs)\n",
      " |  \n",
      " |  subset(self, islice, jslice)\n",
      " |      Subset a UniformEDS as [jslice,islice]\n",
      " |  \n",
      " |  ----------------------------------------------------------------------\n",
      " |  Data descriptors defined here:\n",
      " |  \n",
      " |  __dict__\n",
      " |      dictionary for instance variables (if defined)\n",
      " |  \n",
      " |  __weakref__\n",
      " |      list of weak references to the object (if defined)\n",
      "\n"
     ]
    }
   ],
   "source": [
    "help( UniformEDS )"
   ]
  },
  {
   "cell_type": "code",
   "execution_count": 4,
   "id": "13e44085-62fb-495a-b8c4-4861c932fbb5",
   "metadata": {},
   "outputs": [
    {
     "name": "stdout",
     "output_type": "stream",
     "text": [
      "<UniformEDS 90 x 45\n",
      "lon = <RegularCoord n=90, dx=4.0, rdx=0.25, x0=-180.0, io=-45, rem=0.0, is-ie=0-90, periodic=True>\n",
      "[-178. -174. -170. -166. -162. -158. -154. -150. -146. -142. -138. -134.\n",
      " -130. -126. -122. -118. -114. -110. -106. -102.  -98.  -94.  -90.  -86.\n",
      "  -82.  -78.  -74.  -70.  -66.  -62.  -58.  -54.  -50.  -46.  -42.  -38.\n",
      "  -34.  -30.  -26.  -22.  -18.  -14.  -10.   -6.   -2.    2.    6.   10.\n",
      "   14.   18.   22.   26.   30.   34.   38.   42.   46.   50.   54.   58.\n",
      "   62.   66.   70.   74.   78.   82.   86.   90.   94.   98.  102.  106.\n",
      "  110.  114.  118.  122.  126.  130.  134.  138.  142.  146.  150.  154.\n",
      "  158.  162.  166.  170.  174.  178.]\n",
      "[-180. -176. -172. -168. -164. -160. -156. -152. -148. -144. -140. -136.\n",
      " -132. -128. -124. -120. -116. -112. -108. -104. -100.  -96.  -92.  -88.\n",
      "  -84.  -80.  -76.  -72.  -68.  -64.  -60.  -56.  -52.  -48.  -44.  -40.\n",
      "  -36.  -32.  -28.  -24.  -20.  -16.  -12.   -8.   -4.    0.    4.    8.\n",
      "   12.   16.   20.   24.   28.   32.   36.   40.   44.   48.   52.   56.\n",
      "   60.   64.   68.   72.   76.   80.   84.   88.   92.   96.  100.  104.\n",
      "  108.  112.  116.  120.  124.  128.  132.  136.  140.  144.  148.  152.\n",
      "  156.  160.  164.  168.  172.  176.  180.]\n",
      "lat = <RegularCoord n=45, dx=4.0, rdx=0.25, x0=-90, io=-23, rem=0.5, is-ie=0-45, periodic=False>\n",
      "[-88. -84. -80. -76. -72. -68. -64. -60. -56. -52. -48. -44. -40. -36.\n",
      " -32. -28. -24. -20. -16. -12.  -8.  -4.   0.   4.   8.  12.  16.  20.\n",
      "  24.  28.  32.  36.  40.  44.  48.  52.  56.  60.  64.  68.  72.  76.\n",
      "  80.  84.  88.]\n",
      "[-90. -86. -82. -78. -74. -70. -66. -62. -58. -54. -50. -46. -42. -38.\n",
      " -34. -30. -26. -22. -18. -14. -10.  -6.  -2.   2.   6.  10.  14.  18.\n",
      "  22.  26.  30.  34.  38.  42.  46.  50.  54.  58.  62.  66.  70.  74.\n",
      "  78.  82.  86.  90.]\n",
      "data = (45, 90)>\n"
     ]
    }
   ],
   "source": [
    "r = 0.25\n",
    "x = ( np.arange(360*r) + 0.5 ) * (1./r) - 180\n",
    "y = ( np.arange(180*r) + 0.5 ) * (1./r) - 90\n",
    "DS = UniformEDS( x, y, np.meshgrid(x,y)[0] )\n",
    "print(DS)"
   ]
  },
  {
   "cell_type": "code",
   "execution_count": 5,
   "id": "2dc9ba47-c030-4784-95cb-e57a46b84d6f",
   "metadata": {},
   "outputs": [
    {
     "data": {
      "text/plain": [
       "(array([22, 45]), array([22, 30]))"
      ]
     },
     "execution_count": 5,
     "metadata": {},
     "output_type": "execute_result"
    }
   ],
   "source": [
    "DS.indices( [-90, 0], [0, 30] )"
   ]
  },
  {
   "cell_type": "code",
   "execution_count": 6,
   "id": "34488887-1729-4643-9e00-4aec6105ee15",
   "metadata": {},
   "outputs": [
    {
     "data": {
      "text/plain": [
       "(slice(22, 46, None), slice(22, 31, None))"
      ]
     },
     "execution_count": 6,
     "metadata": {},
     "output_type": "execute_result"
    }
   ],
   "source": [
    "si, sj = DS.bb_slices( [-90, 0], [0, 30] )\n",
    "si, sj"
   ]
  },
  {
   "cell_type": "code",
   "execution_count": 7,
   "id": "21270e3e-130f-40c7-b41b-0e65029f14fa",
   "metadata": {},
   "outputs": [
    {
     "name": "stdout",
     "output_type": "stream",
     "text": [
      "<UniformEDS 24 x 9\n",
      "lon = <RegularCoord n=90, dx=4.0, rdx=0.25, x0=-180.0, io=-45, rem=0.0, is-ie=22-46, periodic=True>\n",
      "[-90. -86. -82. -78. -74. -70. -66. -62. -58. -54. -50. -46. -42. -38.\n",
      " -34. -30. -26. -22. -18. -14. -10.  -6.  -2.   2.]\n",
      "[-92. -88. -84. -80. -76. -72. -68. -64. -60. -56. -52. -48. -44. -40.\n",
      " -36. -32. -28. -24. -20. -16. -12.  -8.  -4.   0.   4.]\n",
      "lat = <RegularCoord n=45, dx=4.0, rdx=0.25, x0=-90, io=-23, rem=0.5, is-ie=22-31, periodic=False>\n",
      "[ 0.  4.  8. 12. 16. 20. 24. 28. 32.]\n",
      "[-2.  2.  6. 10. 14. 18. 22. 26. 30. 34.]\n",
      "data = (9, 24)>\n"
     ]
    }
   ],
   "source": [
    "SS = DS.subset( si, sj )\n",
    "print(SS)"
   ]
  },
  {
   "cell_type": "code",
   "execution_count": 8,
   "id": "0d5cc12d-384f-46cd-9c22-431be5bf55df",
   "metadata": {},
   "outputs": [
    {
     "name": "stdout",
     "output_type": "stream",
     "text": [
      "(25,) (10,) (9, 24)\n"
     ]
    },
    {
     "data": {
      "image/png": "[encoded data removed]",
      "text/plain": [
       "<Figure size 640x480 with 1 Axes>"
      ]
     },
     "metadata": {},
     "output_type": "display_data"
    }
   ],
   "source": [
    "print( SS.lonq.shape, SS.latq.shape, SS.data.shape )\n",
    "# plt.pcolormesh( SS.lonq, SS.latq, SS.data ); plt.colorbar();\n",
    "fig, ax = plt.subplots()\n",
    "SS.plot(axis=ax);"
   ]
  }
 ],
 "metadata": {
  "kernelspec": {
   "display_name": "Python 3 (ipykernel)",
   "language": "python",
   "name": "python3"
  },
  "language_info": {
   "codemirror_mode": {
    "name": "ipython",
    "version": 3
   },
   "file_extension": ".py",
   "mimetype": "text/x-python",
   "name": "python",
   "nbconvert_exporter": "python",
   "pygments_lexer": "ipython3",
   "version": "3.11.5"
  }
 },
 "nbformat": 4,
 "nbformat_minor": 5
}
